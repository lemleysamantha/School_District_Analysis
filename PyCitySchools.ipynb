# Add the Pandas dependency.

import pandas as pd
import os

# Files to load

school_data_to_load = os.path.join("Resources", "schools_complete.csv")
student_data_to_load = os.path.join("Resources", "students_complete.csv")

# Read the school data file and store it in a Pandas DataFrame.

school_data_df = pd.read_csv(school_data_to_load)
school_data_df

school_data_df.head(10)

school_data_df.tail(10)

# Read the student data file and store it in a Pandas DataFrame.

student_data_df = pd.read_csv(student_data_to_load)
student_data_df.head()

# Determine if there are any missing values in the school data.

school_data_df.count()

# Determine any missing values in the student data 

student_data_df.count()

# Determine if there are any missing values in the school data

school_data_df.isnull()

# Determine if there are any missing values in the school data

student_data_df.isnull()


# Determine if there are any missing values in the school data

student_data_df.isnull().sum()

student_data_df.notnull().sum()

# Determine data types for the school DataFrame

school_data_df.dtypes

school_data_df.budget.dtype

school_data_df["budget"].dtype

school_data_df["budget"].dtype

# Determine data types for the student DataFrame

student_data_df.dtypes

student_data_df.dtypes

# Add each prefix and suffix to remove to a list

prefixes_suffixes = ["Dr. ","Mr. ", "Ms. ", "Mrs. ","Miss ", " MD", " DDS", " DVM", " PhD"]

# iterate through the prefixes and suffixes and replace it with empty striing on studenta_data_df 

for word in prefixes_suffixes:
    student_data_df["student_name"] = student_data_df["student_name"].str.replace(word,"") 
student_data_df.head(10)

school_data_complete_df = pd.merge(school_data_df,student_data_df, on=["school_name", "school_name"])
school_data_complete_df.head()

school_data_complete_df = pd.merge(student_data_df,school_data_df, on=["school_name", "school_name"])
school_data_complete_df.head()

# Get the total number of students

student_count = school_data_complete_df.count()
student_count

school_data_complete_df["Student ID"].count()

student_count = school_data_complete_df["Student ID"].count()
student_count

# Calculate the total number of schools

school_count = school_data_df["school_name"].count()
school_count

# Calculate the total number of schools

school_count2 = len(school_data_complete_df["school_name"].unique())
school_count2

# Calculate the total budget

total_budget = school_data_df["budget"].sum()
total_budget

# Calculate the average reading score

average_reading_score = school_data_complete_df["reading_score"].mean()
average_reading_score

# Calculate the average math score

average_math_score = school_data_complete_df["math_score"].mean()
average_math_score

passing_math = school_data_complete_df["math_score"] >= 70
passing_math

passing_reading = school_data_complete_df["reading_score"] >= 70
passing_reading

# get all student who passed math in a new data frame

passing_math_df = school_data_complete_df[school_data_complete_df["math_score"] >=70 ]
passing_math_df.head()

# get all student who passed reading in a new data frame

passing_reading_df = school_data_complete_df[school_data_complete_df["reading_score"] >=70 ]
passing_reading_df.head()

# Calculate the number of students passing math

passing_math_count = passing_math_df["student_name"].count()

# Calculate the number of students passing reading

passing_reading_count = passing_reading_df["student_name"].count()

print(passing_math_count)
print(passing_reading_count)

#Total student count

student_count = school_data_complete_df["Student ID"].count()

# Calculate the percentage that passed the  math

passing_math_percentage = passing_math_count/float(student_count) * 100

# Calculate the percentage that passed the reading

passing_reading_percentage = passing_reading_count/float(student_count) * 100

print(passing_math_percentage)
print(passing_reading_percentage)

# Calculate the students who passed both math and reading.

passing_math_reading_df = school_data_complete_df[(school_data_complete_df["math_score"] >=70)  & (school_data_complete_df["reading_score"] >=70)] 

passing_math_reading_df

# Calculate the count of students wh passed both math and reading

overall_passing_count = passing_math_reading_df["Student ID"].count()

# Calculate the Percentage of students wh passed both math and reading

overall_passing_percentage = overall_passing_count/float(student_count) * 100

overall_passing_percentage

# Adding a list of values with keys to create a new DataFrame.

district_summary_df = pd.DataFrame([{"Total Schools" : school_count, 
                                     "Total Students" : student_count,
                                     "Total Budget" : total_budget,                            
                                     "Average Reading Score" : average_reading_score, 
                                     "Average Math Score" : average_math_score,
                                     "% Passing Reading" : passing_reading_percentage,
                                     "% Passing Math" : passing_math_percentage,                                     
                                     "Overall Passing" : overall_passing_percentage
                                     
                                    }])

district_summary_df

# Format the "Total Students" to have the comma for a thousands separator

district_summary_df["Total Students"] = district_summary_df["Total Students"].map("{:,}" .format)
district_summary_df["Total Students"]

# Format "Total Budget" to have the comma for a thousands separator, a decimal separator, and a "$"

district_summary_df["Total Budget"]  = district_summary_df["Total Budget"].map("${:,.2f}".format)
district_summary_df["Total Budget"] 

district_summary_df["Average Reading Score"]  = district_summary_df["Average Reading Score"].map("{:.1f}".format)
district_summary_df["Average Math Score"]  = district_summary_df["Average Math Score"].map("{:.1f}".format)
district_summary_df["% Passing Reading"]  = district_summary_df["% Passing Reading"].map("{:.1f}".format)
district_summary_df["% Passing Math"]  = district_summary_df["% Passing Math"].map("{:.1f}".format)
district_summary_df["Overall Passing"]  = district_summary_df["Overall Passing"].map("{:.1f}".format)

district_summary_df

# Reorder the columns in the order you want them to appear

new_column_order = ["Total Schools", "Total Students","Total Budget" ,
                    "Average Math Score", "Average Reading Score", 
                    "% Passing Math","% Passing Reading" , 
                   "Overall Passing"]

# Assign district summary df the new column order

district_summary_df = district_summary_df[new_column_order]
district_summary_df

# The value_counts method counts unique values in a column

count = school_data_complete_df["school_name"].value_counts()
count

# Determine the school type

per_school_types_series = school_data_df.set_index(["school_name"])["type"]

per_school_types_series

# Add the per_school_types into a DataFrame for testing

df = pd.DataFrame(per_school_types_series)
df

per_school_counts  = student_data_df["school_name"].value_counts()
per_school_counts 

# Calculate the total student count

per_school_counts_series = school_data_df.set_index(["school_name"])["size"]
per_school_counts_series

# Calculate the total school budget

per_school_budget_series = school_data_df.set_index(["school_name"])["budget"]
per_school_budget_series 

# Calculate the per capita spending

per_school_capita_series = per_school_budget_series/per_school_counts_series
per_school_capita_series

# Calculate the math scores

student_school_math = student_data_df.set_index(["school_name"])["math_score"]
student_school_math

# Calculate the average values for all numeric columns

per_school_averages_df = school_data_complete_df.groupby(["school_name"]).mean()
per_school_averages_df

#Calculate the average math score

per_school_math_averages_series = school_data_complete_df.groupby(["school_name"]).mean()["math_score"]
per_school_math_averages_series

# Calculate the average reading score

per_school_reading_averages_series = school_data_complete_df.groupby(["school_name"]).mean()["reading_score"]
per_school_reading_averages_series

# Calculate the passing scores by creating a filtered DataFrame

per_school_passing_math_df = school_data_complete_df[(school_data_complete_df["math_score"] >= 70)]
per_school_passing_math_df

per_school_passing_reading_df = school_data_complete_df[(school_data_complete_df["reading_score"] >= 70)]
per_school_passing_reading_df

per_school_passing_math_average_series  = per_school_passing_math_df.groupby(["school_name"]).mean()["math_score"]
per_school_passing_math_average_series

per_school_passing_reading_average_series  = per_school_passing_reading_df.groupby(["school_name"]).mean()["reading_score"]
per_school_passing_reading_average_series

per_school_passing_math_count_series  = per_school_passing_math_df.groupby(["school_name"]).count()["student_name"]
per_school_passing_math_count_series

per_school_passing_reading_count_series  = per_school_passing_reading_df.groupby(["school_name"]).count()["student_name"]
per_school_passing_reading_count_series

# Calculate the percentage of passing math and reading scores per school

per_school_passing_math_percentage_series = per_school_passing_math_count_series/per_school_counts_series * 100
per_school_passing_math_percentage_series

per_school_passing_reading_percentage_series = per_school_passing_reading_count_series/per_school_counts_series * 100
per_school_passing_reading_percentage_series

per_school_passing_math_reading_df = school_data_complete_df[(school_data_complete_df["math_score"] >=70)  & (school_data_complete_df["reading_score"] >=70)] 
per_school_passing_math_reading_df

per_school_passing_math_reading_series = per_school_passing_math_reading_df.groupby(["school_name"]).count()["student_name"]
per_school_passing_math_reading_series

per_school_overall_passing_percentage_series = per_school_passing_math_reading_series/per_school_counts_series * 100
per_school_overall_passing_percentage_series

# Adding a list of values with keys to create a new DataFrame

per_school_summary_df  = pd.DataFrame({
                        "School Type" : per_school_types_series,
                        "Total Students" : per_school_counts_series,
                        "Total School Budget" : per_school_budget_series,
                        "Per Student Budget" : per_school_capita_series,
                        "Average Math Score" : per_school_math_averages_series,
                        "Average Reading Score" : per_school_reading_averages_series,
                        "% Passing Math" : per_school_passing_math_percentage_series,
                        "% Passing Reading" : per_school_passing_reading_percentage_series,
                        "% Overall Passing" : per_school_overall_passing_percentage_series })
per_school_summary_df

# Format the Total School Budget and the Per Student Budget columns

per_school_summary_df["Total School Budget"] = per_school_summary_df["Total School Budget"].map("${:,.2f}".format)
per_school_summary_df["Per Student Budget"] = per_school_summary_df["Per Student Budget"].map("${:,.2f}".format)
per_school_summary_df

# Sort and show top five schools

top_schools_df = per_school_summary_df.sort_values(["% Overall Passing"], ascending = False)
top_schools_df

# Sort and show bottom five schools

bottom_schools_df = per_school_summary_df.sort_values(["% Overall Passing"], ascending = True)
bottom_schools_df.head()

ninth_grades_df = school_data_complete_df[(school_data_complete_df["grade"] == "9th")]
tenth_grades_df = school_data_complete_df[(school_data_complete_df["grade"] == "10th")]
eleventh_grades_df = school_data_complete_df[(school_data_complete_df["grade"] == "11th")]
twelfth_grades_df = school_data_complete_df[(school_data_complete_df["grade"] == "12th")]
    ninth_grade_math_scores_series = ninth_grades_df.groupby(["school_name"]).mean() ["math_score"]
tenth_grade_math_scores_series = tenth_grades_df.groupby(["school_name"]).mean() ["math_score"]
eleventh_grade_math_scores_series = eleventh_grades_df.groupby(["school_name"]).mean() ["math_score"]
twelfth_grade_math_scores_series = twelfth_grades_df.groupby(["school_name"]).mean() ["math_score"]
eleventh_grade_math_scores_series

ninth_grade_reading_scores_series = ninth_grades_df.groupby(["school_name"]).mean() ["reading_score"]
tenth_grade_reading_scores_series = tenth_grades_df.groupby(["school_name"]).mean() ["reading_score"]
eleventh_grade_reading_scores_series = eleventh_grades_df.groupby(["school_name"]).mean() ["reading_score"]
twelfth_grade_reading_scores_series = twelfth_grades_df.groupby(["school_name"]).mean() ["reading_score"]
twelfth_grade_reading_scores_series

# Combine each grade level Series for average math scores by school into a single DataFrame

math_scores_by_grade_df = pd.DataFrame({
    "9th" : ninth_grade_math_scores_series,
     "10th" : tenth_grade_math_scores_series,
     "11th" : eleventh_grade_math_scores_series,
     "12th" : twelfth_grade_math_scores_series
})
math_scores_by_grade_df

# Combine each grade level Series for average reading scores by school into a single DataFrame

reading_scores_by_grade_df = pd.DataFrame({
    "9th" : ninth_grade_reading_scores_series,
     "10th" : tenth_grade_reading_scores_series,
     "11th" : eleventh_grade_reading_scores_series,
     "12th" : twelfth_grade_reading_scores_series
})
reading_scores_by_grade_df

math_scores_by_grade_df["9th"] = math_scores_by_grade_df["9th"].map("{:.1f}".format)
math_scores_by_grade_df["10th"] = math_scores_by_grade_df["10th"].map("{:.1f}".format)
math_scores_by_grade_df["11th"] = math_scores_by_grade_df["11th"].map("{:.1f}".format)
math_scores_by_grade_df["12th"] = math_scores_by_grade_df["12th"].map("{:.1f}".format)
math_scores_by_grade_df

reading_scores_by_grade_df["9th"] = reading_scores_by_grade_df["9th"].map("{:.1f}".format)
reading_scores_by_grade_df["10th"] = reading_scores_by_grade_df["10th"].map("{:.1f}".format)
reading_scores_by_grade_df["11th"] = reading_scores_by_grade_df["11th"].map("{:.1f}".format)
reading_scores_by_grade_df["12th"] = reading_scores_by_grade_df["12th"].map("{:.1f}".format)
reading_scores_by_grade_df

# Remove the index name

math_scores_by_grade_df.index.name = None

# Display the DataFrame

math_scores_by_grade_df.head()

# Remove the index name

reading_scores_by_grade_df.index.name = None

# Display the DataFrame

reading_scores_by_grade_df.head()

# Get the descriptive statistics for the per_school_capita

per_school_capita_series.describe()

# Cut the per_school_capita into the spending ranges

spending_bins = [0, 585, 615, 645, 675]
pd.cut(per_school_capita_series, spending_bins)

# Cut the per_school_capita into the spending ranges

spending_bins = [0, 585, 630, 645, 675]
per_school_capita_series.groupby(pd.cut(per_school_capita_series, spending_bins)).count()

# Establish the spending bins and group names

spending_bins = [0, 585, 630, 645, 675]
group_names = ["<$584", "$585-629", "$630-644", "$645-675"]

# Categorize spending based on the bins

per_school_summary_df["Spending Ranges (Per Student)"] = pd.cut(per_school_capita_series, spending_bins, labels=group_names)
per_school_summary_df

# Calculate averages for the desired columns

spending_math_average_scores_series = per_school_summary_df.groupby("Spending Ranges (Per Student)").mean()["Average Math Score"]
spending_reading_average_scores_series = per_school_summary_df.groupby("Spending Ranges (Per Student)").mean()["Average Reading Score"]
spending_passing_math_percentage_series = per_school_summary_df.groupby("Spending Ranges (Per Student)").mean()["% Passing Math"]
spending_passing_reading_percentage_series = per_school_summary_df.groupby("Spending Ranges (Per Student)").mean()["% Passing Reading"]
spending_overall_passing_percentage_series = per_school_summary_df.groupby("Spending Ranges (Per Student)").mean()["% Overall Passing"]

spending_overall_passing_percentage_series

spending_summary_df = pd.DataFrame({
    "Average Math Score" : spending_math_average_scores_series,
    "Average Reading Score" : spending_reading_average_scores_series,
    "% Passing Math" : spending_passing_math_percentage_series,
    "% Passing Reading" : spending_passing_reading_percentage_series,
    "% Overall Passing" : spending_overall_passing_percentage_series,
    
})
spending_summary_df

spending_summary_df["Average Math Score"] = spending_summary_df["Average Math Score"].map("{:.1f}".format)
spending_summary_df["Average Reading Score"] = spending_summary_df["Average Reading Score"].map("{:.1f}".format)
spending_summary_df["% Passing Math"] = spending_summary_df["% Passing Math"].map("{:.0f}".format)
spending_summary_df["% Passing Reading"] = spending_summary_df["% Passing Reading"].map("{:.0f}".format)
spending_summary_df["% Overall Passing"] = spending_summary_df["% Overall Passing"].map("{:.0f}".format)
spending_summary_df

# Establish the bins

size_bins = [0, 1000, 2000, 5000]
group_names = ["Small (<1000)", "Medium (1000-2000)", "Large (2000-5000)"]

per_school_summary_df["School Size"] = pd.cut(per_school_counts_series, size_bins, labels=group_names)
per_school_summary_df

size_math_average_scores_series = per_school_summary_df.groupby("School Size").mean()["Average Math Score"]
size_reading_average_scores_series = per_school_summary_df.groupby("School Size").mean()["Average Reading Score"]
size_passing_math_percentage_series = per_school_summary_df.groupby("School Size").mean()["% Passing Math"]
size_passing_reading_percentage_series = per_school_summary_df.groupby("School Size").mean()["% Passing Reading"]
size_overall_passing_percentage_series = per_school_summary_df.groupby("School Size").mean()["% Overall Passing"]

size_overall_passing_percentage_series

size_summary_df = pd.DataFrame({
    "Average Math Score" : size_math_average_scores_series,
    "Average Reading Score" : size_reading_average_scores_series,
    "% Passing Math" : size_passing_math_percentage_series,
    "% Passing Reading" : size_passing_reading_percentage_series,
    "% Overall Passing" : size_overall_passing_percentage_series,
    
})
size_summary_df

size_summary_df["Average Math Score"] = size_summary_df["Average Math Score"].map("{:.1f}".format)
size_summary_df["Average Reading Score"] = size_summary_df["Average Reading Score"].map("{:.1f}".format)
size_summary_df["% Passing Math"] = size_summary_df["% Passing Math"].map("{:.0f}".format)
size_summary_df["% Passing Reading"] = size_summary_df["% Passing Reading"].map("{:.0f}".format)
size_summary_df["% Overall Passing"] = size_summary_df["% Overall Passing"].map("{:.0f}".format)
size_summary_df

type_math_average_scores_series = per_school_summary_df.groupby("School Type").mean()["Average Math Score"]
type_reading_average_scores_series = per_school_summary_df.groupby("School Type").mean()["Average Reading Score"]
type_passing_math_percentage_series = per_school_summary_df.groupby("School Type").mean()["% Passing Math"]
type_passing_reading_percentage_series = per_school_summary_df.groupby("School Type").mean()["% Passing Reading"]
type_overall_passing_percentage_series = per_school_summary_df.groupby("School Type").mean()["% Overall Passing"]
type_overall_passing_percentage_series

type_summary_df = pd.DataFrame({
    "Average Math Score" : type_math_average_scores_series,
    "Average Reading Score" : type_reading_average_scores_series,
    "% Passing Math" : type_passing_math_percentage_series,
    "% Passing Reading" : type_passing_reading_percentage_series,
    "% Overall Passing" : type_overall_passing_percentage_series,
    
})
type_summary_df

type_summary_df["Average Math Score"] = type_summary_df["Average Math Score"].map("{:.1f}".format)
type_summary_df["Average Reading Score"] = type_summary_df["Average Reading Score"].map("{:.1f}".format)
type_summary_df["% Passing Math"] = type_summary_df["% Passing Math"].map("{:.0f}".format)
type_summary_df["% Passing Reading"] = type_summary_df["% Passing Reading"].map("{:.0f}".format)
type_summary_df["% Overall Passing"] = type_summary_df["% Overall Passing"].map("{:.0f}".format)
type_summary_df

