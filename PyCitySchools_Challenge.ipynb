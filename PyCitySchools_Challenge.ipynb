%config IPCompleter.greedy=True
# Dependencies and Setup
import pandas as pd
import os

# File to Load (Remember to change the path if needed.)
school_data_to_load = os.path.join("resources", "schools_complete.csv")
student_data_to_load = os.path.join("resources", "students_complete.csv")

# Read the School Data and Student Data and store into a Pandas DataFrame
school_data_df = pd.read_csv(school_data_to_load)
student_data_df = pd.read_csv(student_data_to_load)

# Cleaning Student Names and Replacing Substrings in a Python String
# Add each prefix and suffix to remove to a list.
prefixes_suffixes = ["Dr. ", "Mr. ","Ms. ", "Mrs. ", "Miss ", " MD", " DDS", " DVM", " PhD"]

# Iterate through the words in the "prefixes_suffixes" list and replace them with an empty space, "".
for word in prefixes_suffixes:
    student_data_df["student_name"] = student_data_df["student_name"].str.replace(word,"")

# Check names.
student_data_df.head(10)

# Install numpy using conda install numpy or pip install numpy. 
# Step 1. Import numpy as np.
import numpy as np
# Step 2. Use the loc method on the student_data_df to select all the reading scores from the 9th grade at Thomas High School and replace them with NaN.
#Use loc on the student data and logical operations to select Thomas and 9th grade, set reading to null
student_data_df.loc[(student_data_df["school_name"] == "Thomas High School")
                   & (student_data_df["grade"] == "9th") & (student_data_df["reading_score"] >0),"reading_score" ] = np.nan
#  Step 3. Refactor the code in Step 2 to replace the math scores with NaN.
#Use loc on the student data and logical operations to select Thomas and 9th grade, set math to null
student_data_df.loc[(student_data_df["school_name"] == "Thomas High School")
                   & (student_data_df["grade"] == "9th") & (student_data_df["math_score"] >0),"math_score" ] = np.nan
#  Step 4. Check the student data for NaN's. 
student_data_df

# Determine if there are any missing values in the school data.
school_data_df.count()
School ID      15
school_name    15
type           15
size           15
budget         15
dtype: int64
# Determine if there are any missing values in the student data.
student_data_df.count()
Student ID       39170
student_name     39170
gender           39170
grade            39170
school_name      39170
reading_score    38709
math_score       38709
dtype: int64
# Determine if there are any missing values in the school data.
school_data_df.isnull()

# Determine if there are any missing values in the student data.
student_data_df.isnull()
Student ID         0
student_name       0
gender             0
grade              0
school_name        0
reading_score    461
math_score       461
dtype: int64

# Determine if there are not any missing values in the school data.
school_data_df.notnull()

# Determine if there are not any missing values in the student data.
student_data_df.notnull().sum()
Student ID       39170
student_name     39170
gender           39170
grade            39170
school_name      39170
reading_score    38709
math_score       38709
dtype: int64
# Determine data types for the school DataFrame.
school_data_df.dtypes
School ID       int64
school_name    object
type           object
size            int64
budget          int64
dtype: object
# Determine data types for the student DataFrame.
student_data_df.dtypes
Student ID         int64
student_name      object
gender            object
grade             object
school_name       object
reading_score    float64
math_score       float64
dtype: object
# Add each prefix and suffix to remove to a list.
prefixes_suffixes = [
    "Dr. ",
    "Mr. ",
    "Ms. ",
    "Mrs. ",
    "Miss ",
    " MD",
    " DDS",
    " DVM",
    " PhD",
]

# Iterate through the words in the "prefixes_suffixes" list and replace them with an empty space, "".
for word in prefixes_suffixes:
    student_data_df["student_name"] = student_data_df["student_name"].str.replace(
        word, ""
    )
# Combine the data into a single dataset.
school_data_complete_df = pd.merge(student_data_df, school_data_df, on=["school_name", "school_name"])
school_data_complete_df.head()

# GEt the total number of students.
student_count = school_data_complete_df.count()
student_count
Student ID       39170
student_name     39170
gender           39170
grade            39170
school_name      39170
reading_score    38709
math_score       38709
School ID        39170
type             39170
size             39170
budget           39170
dtype: int64
# Get the total number of students.
student_count = school_data_complete_df["Student ID"].count()
student_count
39170
# Calculate the total number of schools.
school_count = school_data_df["school_name"].count()
school_count
15
# Calculate the total number of schools
school_count_2 = school_data_complete_df["school_name"].unique()
school_count_2
array(['Huang High School', 'Figueroa High School', 'Shelton High School',
       'Hernandez High School', 'Griffin High School',
       'Wilson High School', 'Cabrera High School', 'Bailey High School',
       'Holden High School', 'Pena High School', 'Wright High School',
       'Rodriguez High School', 'Johnson High School', 'Ford High School',
       'Thomas High School'], dtype=object)
# Calculate the Total Budget.
total_budget = school_data_complete_df["budget"].sum()
total_budget
82932329558
# Calculate the total budget.
total_budget = school_data_df["budget"].sum()
total_budget
24649428
# Calculate the average reading score.
average_reading_score = school_data_complete_df["reading_score"].mean()
average_reading_score
81.85579580976001
# Calculate the average math score.
average_math_score = school_data_complete_df["math_score"].mean()
average_math_score
78.93053295099331
passing_math = school_data_complete_df["math_score"] >= 70
passing_reading = school_data_complete_df["reading_score"] >= 70
passing_math
0         True
1        False
2        False
3        False
4         True
         ...  
39165     True
39166     True
39167    False
39168     True
39169     True
Name: math_score, Length: 39170, dtype: bool
passing_reading
0        False
1         True
2         True
3        False
4         True
         ...  
39165     True
39166     True
39167    False
39168     True
39169     True
Name: reading_score, Length: 39170, dtype: bool
# Get all the students who are passing math in a new DataFrame.
passing_math = school_data_complete_df[school_data_complete_df["math_score"] >= 70]
passing_math.head()

# Get all the students that are passing reading in a new DataFrame.
passing_reading = school_data_complete_df[
    school_data_complete_df["reading_score"] >= 70
]
# Calculate the number of students passing math.
passing_math_count = passing_math["student_name"].count()

# Calculate the number of students passing reading.
passing_reading_count = passing_reading["student_name"].count()
print(passing_math_count)
print(passing_reading_count)
28939
33158
# Calculate the percent that passed math.
passing_math_percentage = passing_math_count / float(student_count) * 100

# Calculate the percent that passed reading.
passing_reading_percentage = passing_reading_count / float(student_count) * 100
print(passing_math_percentage)
print(passing_reading_percentage)
73.88052080673985
84.65151901965791
# Calculate the students who passed both math and reading.
passing_math_reading = school_data_complete_df[
    (school_data_complete_df["math_score"] >= 70)
    & (school_data_complete_df["reading_score"] >= 70)
]

passing_math_reading.head()

# Calculate the number of students who passed both math and reading.
overall_passing_math_reading_count = passing_math_reading["student_name"].count()
overall_passing_math_reading_count
25105
# Calculate the overall passing percentage.
overall_passing_percentage = overall_passing_math_reading_count / student_count * 100
overall_passing_percentage
64.09241766658157
# Adding a list of values with keys to create a new DataFrame.
district_summary_df = pd.DataFrame(
    [
        {
            "Total Schools": school_count,
            "Total Students": student_count,
            "Total Budget": total_budget,
            "Average Math Score": average_math_score,
            "Average Reading Score": average_reading_score,
            "% Passing Math": passing_math_percentage,
            "% Passing Reading": passing_reading_percentage,
            "% Overall Passing": overall_passing_percentage,
        }
    ]
)
district_summary_df

# Define the function "say_hello" so it prints "Hello!" when called.
def say_hello():
    print("Hello!")
# Call the function.
say_hello()
Hello!
# Define the function "say_something" so it prints whatever is passed as the variable when called.
def say_something(something):
    print(something)
# Call the function.
say_something("Hello World")
Hello World
Jane_says = "Hi, my name is Jane. I'm learning Python!"
say_something(Jane_says)
Hi, my name is Jane. I'm learning Python!
# Define a function that calculates the percentage of students that passed both # math and reading and prints the passing percentage to the output when the
# function is called.
def passing_math_percent(pass_math_count, student_count):
    return pass_math_count / float(student_count) * 100
passing_math_count = 29370
total_student_count = 39170
# Call the function.
passing_math_percent(passing_math_count, total_student_count)
74.9808526933878
# A list of my grades.
my_grades = ["B", "C", "B", "D"]
my_grades = pd.Series(my_grades)
my_grades
0    B
1    C
2    B
3    D
dtype: object
# Change the grades by one letter grade.
my_grades.map({"B": "A", "C": "B", "D": "C"})
0    A
1    B
2    A
3    C
dtype: object
# Using the format() function.
my_grades = [92.34, 84.56, 86.78, 98.32]

for grade in my_grades:
    print("{:.0f}".format(grade))
92
85
87
98
# Convert the numerical grades to a Series.
my_grades = pd.Series([92.34, 84.56, 86.78, 78.32])
my_grades
0    92.34
1    84.56
2    86.78
3    78.32
dtype: float64
# Format the grades to the nearest whole number percent.
my_grades.map("{:.0f}".format)
0    92
1    85
2    87
3    78
dtype: object
# Format the "Total Students" to have the comma for a thousands separator.
district_summary_df["Total Students"] = district_summary_df["Total Students"].map(
    "{:,}".format
)

district_summary_df["Total Students"]
0    39,170
Name: Total Students, dtype: object
# Format "Total Budget" to have the comma for a thousands separator, a decimal separator, and a "$".

district_summary_df["Total Budget"] = district_summary_df["Total Budget"].map(
    "${:,.2f}".format
)

district_summary_df["Total Budget"]
0    $24,649,428.00
Name: Total Budget, dtype: object
# Format the columns.
district_summary_df["Average Math Score"] = district_summary_df[
    "Average Math Score"
].map("{:.1f}".format)

district_summary_df["Average Reading Score"] = district_summary_df[
    "Average Reading Score"
].map("{:.1f}".format)

district_summary_df["% Passing Math"] = district_summary_df["% Passing Math"].map(
    "{:.0f}".format
)

district_summary_df["% Passing Reading"] = district_summary_df["% Passing Reading"].map(
    "{:.0f}".format
)

district_summary_df["% Overall Passing"] = district_summary_df["% Overall Passing"].map(
    "{:.0f}".format
)
# Reorder the columns in the order you want them to appear.
# new_column_order = ["column2", "column4", "column1"]

# Assign a new or the same DataFrame the new column order.
# df = df[new_column_order]

# Reorder the columns in the order you want them to appear.
new_column_order = [
    "Total Schools",
    "Total Students",
    "Total Budget",
    "Average Math Score",
    "Average Reading Score",
    "% Passing Math",
    "% Passing Reading",
    "% Overall Passing",
]

# Assign district summary df the new column order.
district_summary_df = district_summary_df[new_column_order]
district_summary_df

# Determine the school type.
per_school_types = school_data_df.set_index(["school_name"])["type"]
per_school_types
school_name
Huang High School        District
Figueroa High School     District
Shelton High School       Charter
Hernandez High School    District
Griffin High School       Charter
Wilson High School        Charter
Cabrera High School       Charter
Bailey High School       District
Holden High School        Charter
Pena High School          Charter
Wright High School        Charter
Rodriguez High School    District
Johnson High School      District
Ford High School         District
Thomas High School        Charter
Name: type, dtype: object
# Add the per_school_types into a DataFrame for testing.
df = pd.DataFrame(per_school_types)
df

df.rename(columns = {"type":"School Types"}, inplace = True)
df
# Calculate the total student count.
per_school_counts = school_data_df["size"]
per_school_counts
0     2917
1     2949
2     1761
3     4635
4     1468
5     2283
6     1858
7     4976
8      427
9      962
10    1800
11    3999
12    4761
13    2739
14    1635
Name: size, dtype: int64
# Calculate the total student count.
per_school_counts = school_data_df.set_index(["school_name"])["size"]
per_school_counts
school_name
Huang High School        2917
Figueroa High School     2949
Shelton High School      1761
Hernandez High School    4635
Griffin High School      1468
Wilson High School       2283
Cabrera High School      1858
Bailey High School       4976
Holden High School        427
Pena High School          962
Wright High School       1800
Rodriguez High School    3999
Johnson High School      4761
Ford High School         2739
Thomas High School       1635
Name: size, dtype: int64
# Calculate the total student count.
per_school_counts = school_data_complete_df["school_name"].value_counts()
per_school_counts
Bailey High School       4976
Johnson High School      4761
Hernandez High School    4635
Rodriguez High School    3999
Figueroa High School     2949
Huang High School        2917
Ford High School         2739
Wilson High School       2283
Cabrera High School      1858
Wright High School       1800
Shelton High School      1761
Thomas High School       1635
Griffin High School      1468
Pena High School          962
Holden High School        427
Name: school_name, dtype: int64
# Calculate the total school budget.
per_school_budget = school_data_df.set_index(["school_name"])["budget"]
per_school_budget
school_name
Huang High School        1910635
Figueroa High School     1884411
Shelton High School      1056600
Hernandez High School    3022020
Griffin High School       917500
Wilson High School       1319574
Cabrera High School      1081356
Bailey High School       3124928
Holden High School        248087
Pena High School          585858
Wright High School       1049400
Rodriguez High School    2547363
Johnson High School      3094650
Ford High School         1763916
Thomas High School       1043130
Name: budget, dtype: int64
# Calculate the per capita spending.
per_school_capita = per_school_budget / per_school_counts
per_school_capita
Bailey High School       628.0
Cabrera High School      582.0
Figueroa High School     639.0
Ford High School         644.0
Griffin High School      625.0
Hernandez High School    652.0
Holden High School       581.0
Huang High School        655.0
Johnson High School      650.0
Pena High School         609.0
Rodriguez High School    637.0
Shelton High School      600.0
Thomas High School       638.0
Wilson High School       578.0
Wright High School       583.0
dtype: float64
# Calculate the math scores.
student_school_math = student_data_df.set_index(["school_name"])["math_score"]
# Calculate the average math scores.
per_school_averages = school_data_complete_df.groupby(["school_name"]).mean()
per_school_averages

# Calculate the average test scores.
per_school_math = school_data_complete_df.groupby(["school_name"]).mean()["math_score"]

per_school_reading = school_data_complete_df.groupby(["school_name"]).mean()["reading_score"]
# Calculate the passing scores by creating a filtered DataFrame.
per_school_passing_math = school_data_complete_df[
    (school_data_complete_df["math_score"] >= 70)
]

per_school_passing_reading = school_data_complete_df[
    (school_data_complete_df["reading_score"] >= 70)
]
per_school_passing_math.head()
Student ID	student_name	gender	grade	sc

# Calculate the number of students passing math and passing reading by school.
per_school_passing_math = per_school_passing_math.groupby(["school_name"]).count()[
    "student_name"
]

per_school_passing_reading = per_school_passing_reading.groupby(
    ["school_name"]
).count()["student_name"]
# Calculate the percentage of passing math and reading scores per school.
per_school_passing_math = per_school_passing_math / per_school_counts * 100

per_school_passing_reading = per_school_passing_reading / per_school_counts * 100
# Calculate the students who passed both math and reading.
per_passing_math_reading = school_data_complete_df[
    (school_data_complete_df["math_score"] >= 70)
    & (school_data_complete_df["reading_score"] >= 70)
]

per_passing_math_reading.head()


# Calculate the number of students who passed both math and reading.
per_passing_math_reading = per_passing_math_reading.groupby(["school_name"]).count()[
    "student_name"
]
# Calculate the overall passing percentage.
per_overall_passing_percentage = per_passing_math_reading / per_school_counts * 100
# Adding a list of values with keys to create a new DataFrame.

per_school_summary_df = pd.DataFrame(
    {
        "School Type": per_school_types,
        "Total Students": per_school_counts,
        "Total School Budget": per_school_budget,
        "Per Student Budget": per_school_capita,
        "Average Math Score": per_school_math,
        "Average Reading Score": per_school_reading,
        "% Passing Math": per_school_passing_math,
        "% Passing Reading": per_school_passing_reading,
        "% Overall Passing": per_overall_passing_percentage,
    }
)
per_school_summary_df.head()

# Format the Total School Budget and the Per Student Budget columns.
per_school_summary_df["Total School Budget"] = per_school_summary_df[
    "Total School Budget"
].map("${:,.2f}".format)

per_school_summary_df["Per Student Budget"] = per_school_summary_df[
    "Per Student Budget"
].map("${:,.2f}".format)


# Display the data frame
per_school_summary_df.head()

# Reorder the columns in the order you want them to appear.
new_column_order = [
    "School Type",
    "Total Students",
    "Total School Budget",
    "Per Student Budget",
    "Average Math Score",
    "Average Reading Score",
    "% Passing Math",
    "% Passing Reading",
    "% Overall Passing",
]

# Assign district summary df the new column order.
per_school_summary_df = per_school_summary_df[new_column_order]
per_school_summary_df

# per_school_summary_df.loc["Thomas High School", :]

# Sort and show top five schools.
top_schools = per_school_summary_df.sort_values(["% Overall Passing"], ascending=False)

top_schools.head()

# Sort and show top five schools.
bottom_schools = per_school_summary_df.sort_values(
    ["% Overall Passing"], ascending=True
)

bottom_schools.head()

# Create a grade level DataFrames.
ninth_graders = school_data_complete_df[(school_data_complete_df["grade"] == "9th")]

tenth_graders = school_data_complete_df[(school_data_complete_df["grade"] == "10th")]

eleventh_graders = school_data_complete_df[(school_data_complete_df["grade"] == "11th")]

twelfth_graders = school_data_complete_df[(school_data_complete_df["grade"] == "12th")]
# Group each school Series by the school name for the average math score.
ninth_grade_math_scores = ninth_graders.groupby(["school_name"]).mean()["math_score"]

tenth_grade_math_scores = tenth_graders.groupby(["school_name"]).mean()["math_score"]

eleventh_grade_math_scores = eleventh_graders.groupby(["school_name"]).mean()[
    "math_score"
]

twelfth_grade_math_scores = twelfth_graders.groupby(["school_name"]).mean()[
    "math_score"
]
# Group each school Series by the school name for the average reading score.
ninth_grade_reading_scores = ninth_graders.groupby(["school_name"]).mean()[
    "reading_score"
]

tenth_grade_reading_scores = tenth_graders.groupby(["school_name"]).mean()[
    "reading_score"
]

eleventh_grade_reading_scores = eleventh_graders.groupby(["school_name"]).mean()[
    "reading_score"
]

twelfth_grade_reading_scores = twelfth_graders.groupby(["school_name"]).mean()[
    "reading_score"
]
twelfth_grade_reading_scores
school_name
Bailey High School       80.912451
Cabrera High School      84.287958
Figueroa High School     81.384863
Ford High School         80.662338
Griffin High School      84.013699
Hernandez High School    80.857143
Holden High School       84.698795
Huang High School        80.305983
Johnson High School      81.227564
Pena High School         84.591160
Rodriguez High School    80.376426
Shelton High School      82.781671
Thomas High School       83.831361
Wilson High School       84.317673
Wright High School       84.073171
Name: reading_score, dtype: float64
# Combine each Series for average math scores by school into single DataFrame.
math_scores_by_grade = pd.DataFrame(
    {
        "9th": ninth_grade_math_scores,
        "10th": tenth_grade_math_scores,
        "11th": eleventh_grade_math_scores,
        "12th": twelfth_grade_math_scores,
    }
)

math_scores_by_grade

# Combine each Series for average reading scores by school into single DataFrame.
reading_scores_by_grade = pd.DataFrame(
    {
        "9th": ninth_grade_reading_scores,
        "10th": tenth_grade_reading_scores,
        "11th": eleventh_grade_reading_scores,
        "12th": twelfth_grade_reading_scores,
    }
)

reading_scores_by_grade.head()

# Format each grade column.
math_scores_by_grade["9th"] = math_scores_by_grade["9th"].map("{:.1f}".format)
math_scores_by_grade["10th"] = math_scores_by_grade["10th"].map("{:.1f}".format)
math_scores_by_grade["11th"] = math_scores_by_grade["11th"].map("{:.1f}".format)
math_scores_by_grade["12th"] = math_scores_by_grade["12th"].map("{:.1f}".format)

# Make sure the columns are in the correct order.
math_scores_by_grade = math_scores_by_grade[["9th", "10th", "11th", "12th"]]

# Remove the index name.
math_scores_by_grade.index.name = None
# Display the DataFrame.
math_scores_by_grade.head()

# Format each grade column.
reading_scores_by_grade["9th"] = reading_scores_by_grade["9th"].map("{:,.1f}".format)
reading_scores_by_grade["10th"] = reading_scores_by_grade["10th"].map("{:,.1f}".format)
reading_scores_by_grade["11th"] = reading_scores_by_grade["11th"].map("{:,.1f}".format)
reading_scores_by_grade["12th"] = reading_scores_by_grade["12th"].map("{:,.1f}".format)

# Make sure the columns are in the correct order.
reading_scores_by_grade = reading_scores_by_grade[["9th", "10th", "11th", "12th"]]

# Remove the index name.
reading_scores_by_grade.index.name = None
# Display the data frame.
reading_scores_by_grade.head()

# Get the descriptive statistics for the per_school_capita.
per_school_capita.describe()
count     15.000000
mean     620.066667
std       28.544368
min      578.000000
25%      591.500000
50%      628.000000
75%      641.500000
max      655.000000
dtype: float64

# Cut the per_school_capita into the spending ranges.
spending_bins = [0, 585, 615, 645, 675]
pd.cut(per_school_capita, spending_bins)
Bailey High School       (615, 645]
Cabrera High School        (0, 585]
Figueroa High School     (615, 645]
Ford High School         (615, 645]
Griffin High School      (615, 645]
Hernandez High School    (645, 675]
Holden High School         (0, 585]
Huang High School        (645, 675]
Johnson High School      (645, 675]
Pena High School         (585, 615]
Rodriguez High School    (615, 645]
Shelton High School      (585, 615]
Thomas High School       (615, 645]
Wilson High School         (0, 585]
Wright High School         (0, 585]
dtype: category
Categories (4, interval[int64]): [(0, 585] < (585, 615] < (615, 645] < (645, 675]]
# Cut the per_school_capita into the spending ranges.
spending_bins = [585, 615, 645, 675]
pd.cut(per_school_capita, spending_bins)
Bailey High School       (615.0, 645.0]
Cabrera High School                 NaN
Figueroa High School     (615.0, 645.0]
Ford High School         (615.0, 645.0]
Griffin High School      (615.0, 645.0]
Hernandez High School    (645.0, 675.0]
Holden High School                  NaN
Huang High School        (645.0, 675.0]
Johnson High School      (645.0, 675.0]
Pena High School         (585.0, 615.0]
Rodriguez High School    (615.0, 645.0]
Shelton High School      (585.0, 615.0]
Thomas High School       (615.0, 645.0]
Wilson High School                  NaN
Wright High School                  NaN
dtype: category
Categories (3, interval[int64]): [(585, 615] < (615, 645] < (645, 675]]
# Cut the per_school_capita into the spending ranges.
spending_bins = [0, 585, 615, 645, 675]
per_school_capita.groupby(pd.cut(per_school_capita, spending_bins)).count()
(0, 585]      4
(585, 615]    2
(615, 645]    6
(645, 675]    3
dtype: int64
# Cut the per_school_capita into the spending ranges.
spending_bins = [0, 585, 630, 645, 675]
per_school_capita.groupby(pd.cut(per_school_capita, spending_bins)).count()
(0, 585]      4
(585, 630]    4
(630, 645]    4
(645, 675]    3
dtype: int64
# Establish the spending bins and group names.
spending_bins = [0, 585, 630, 645, 675]
group_names = ["<$584", "$585-629", "$630-644", "$645-675"]
 
# Categorize spending based on the bins.
per_school_summary_df["Spending Ranges (Per Student)"] = pd.cut(per_school_capita, spending_bins, labels=group_names)

per_school_summary_df

# Calculate averages for the desired columns.
spending_math_scores = per_school_summary_df.groupby(
    ["Spending Ranges (Per Student)"]
).mean()["Average Math Score"]

spending_reading_scores = per_school_summary_df.groupby(
    ["Spending Ranges (Per Student)"]
).mean()["Average Reading Score"]

spending_passing_math = per_school_summary_df.groupby(
    ["Spending Ranges (Per Student)"]
).mean()["% Passing Math"]

spending_passing_reading = per_school_summary_df.groupby(
    ["Spending Ranges (Per Student)"]
).mean()["% Passing Reading"]

overall_passing_spending = per_school_summary_df.groupby(
    ["Spending Ranges (Per Student)"]
).mean()["% Overall Passing"]

overall_passing_spending
Spending Ranges (Per Student)
<$584       90.369459
$585-629    81.418596
$630-644    56.389766
$645-675    53.526855
Name: % Overall Passing, dtype: float64
# Assemble into DataFrame.
spending_summary_df = pd.DataFrame(
    {
        "Average Math Score": spending_math_scores,
        "Average Reading Score": spending_reading_scores,
        "% Passing Math": spending_passing_math,
        "% Passing Reading": spending_passing_reading,
        "% Overall Passing": overall_passing_spending,
    }
)

spending_summary_df

# Formatting
spending_summary_df["Average Math Score"] = spending_summary_df[
    "Average Math Score"
].map("{:.1f}".format)

spending_summary_df["Average Reading Score"] = spending_summary_df[
    "Average Reading Score"
].map("{:.1f}".format)

spending_summary_df["% Passing Math"] = spending_summary_df["% Passing Math"].map(
    "{:.0f}".format
)

spending_summary_df["% Passing Reading"] = spending_summary_df["% Passing Reading"].map(
    "{:.0f}".format
)

spending_summary_df["% Overall Passing"] = spending_summary_df["% Overall Passing"].map(
    "{:.0f}".format
)

spending_summary_df

# Establish the bins.
size_bins = [0, 1000, 2000, 5000]
group_names = ["Small (<1000)", "Medium (1000-2000)", "Large (2000-5000)"]
## The scores by school type (3 pt)
# Categorize spending based on the bins.
per_school_summary_df["School Size"] = pd.cut(per_school_summary_df["Total Students"], size_bins, labels=group_names)

per_school_summary_df

# Calculate averages for the desired columns.
size_math_scores = per_school_summary_df.groupby(["School Size"]).mean()[
    "Average Math Score"
]

size_reading_scores = per_school_summary_df.groupby(["School Size"]).mean()[
    "Average Reading Score"
]

size_passing_math = per_school_summary_df.groupby(["School Size"]).mean()[
    "% Passing Math"
]

size_passing_reading = per_school_summary_df.groupby(["School Size"]).mean()[
    "% Passing Reading"
]

size_overall_passing = per_school_summary_df.groupby(["School Size"]).mean()[
    "% Overall Passing"
]
# Assemble into DataFrame.
size_summary_df = pd.DataFrame(
    {
        "Average Math Score": size_math_scores,
        "Average Reading Score": size_reading_scores,
        "% Passing Math": size_passing_math,
        "% Passing Reading": size_passing_reading,
        "% Overall Passing": size_overall_passing,
    }
)

size_summary_df

# Formatting.
size_summary_df["Average Math Score"] = size_summary_df["Average Math Score"].map(
    "{:.1f}".format
)

size_summary_df["Average Reading Score"] = size_summary_df["Average Reading Score"].map(
    "{:.1f}".format
)

size_summary_df["% Passing Math"] = size_summary_df["% Passing Math"].map(
    "{:.0f}".format
)

size_summary_df["% Passing Reading"] = size_summary_df["% Passing Reading"].map(
    "{:.0f}".format
)

size_summary_df["% Overall Passing"] = size_summary_df["% Overall Passing"].map(
    "{:.0f}".format
)

size_summary_df

# Calculate averages for the desired columns.
type_math_scores = per_school_summary_df.groupby(["School Type"]).mean()[
    "Average Math Score"
]

type_reading_scores = per_school_summary_df.groupby(["School Type"]).mean()[
    "Average Reading Score"
]

type_passing_math = per_school_summary_df.groupby(["School Type"]).mean()[
    "% Passing Math"
]

type_passing_reading = per_school_summary_df.groupby(["School Type"]).mean()[
    "% Passing Reading"
]

type_overall_passing = per_school_summary_df.groupby(["School Type"]).mean()[
    "% Overall Passing"
]
# Assemble into DataFrame.
type_summary_df = pd.DataFrame({
          "Average Math Score" : type_math_scores,
          "Average Reading Score": type_reading_scores,
          "% Passing Math": type_passing_math,
          "% Passing Reading": type_passing_reading,
          "% Overall Passing": type_overall_passing})

type_summary_df

# Formatting
type_summary_df["Average Math Score"] = type_summary_df["Average Math Score"].map("{:.1f}".format)

type_summary_df["Average Reading Score"] = type_summary_df["Average Reading Score"].map("{:.1f}".format)

type_summary_df["% Passing Math"] = type_summary_df["% Passing Math"].map("{:.0f}".format)

type_summary_df["% Passing Reading"] = type_summary_df["% Passing Reading"].map("{:.0f}".format)

type_summary_df["% Overall Passing"] = type_summary_df["% Overall Passing"].map("{:.0f}".format)

type_summary_df